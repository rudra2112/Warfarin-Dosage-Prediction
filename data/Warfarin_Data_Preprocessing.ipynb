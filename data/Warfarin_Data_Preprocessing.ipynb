{
 "cells": [
  {
   "cell_type": "code",
   "execution_count": 1,
   "metadata": {},
   "outputs": [],
   "source": [
    "import pandas as pd"
   ]
  },
  {
   "cell_type": "code",
   "execution_count": 2,
   "metadata": {},
   "outputs": [],
   "source": [
    "dataset = pd.read_csv('warfarin.csv')"
   ]
  },
  {
   "cell_type": "code",
   "execution_count": 3,
   "metadata": {},
   "outputs": [
    {
     "data": {
      "text/html": [
       "<div>\n",
       "<style scoped>\n",
       "    .dataframe tbody tr th:only-of-type {\n",
       "        vertical-align: middle;\n",
       "    }\n",
       "\n",
       "    .dataframe tbody tr th {\n",
       "        vertical-align: top;\n",
       "    }\n",
       "\n",
       "    .dataframe thead th {\n",
       "        text-align: right;\n",
       "    }\n",
       "</style>\n",
       "<table border=\"1\" class=\"dataframe\">\n",
       "  <thead>\n",
       "    <tr style=\"text-align: right;\">\n",
       "      <th></th>\n",
       "      <th>PharmGKB Subject ID</th>\n",
       "      <th>Gender</th>\n",
       "      <th>Race</th>\n",
       "      <th>Ethnicity</th>\n",
       "      <th>Age</th>\n",
       "      <th>Height (cm)</th>\n",
       "      <th>Weight (kg)</th>\n",
       "      <th>Indication for Warfarin Treatment</th>\n",
       "      <th>Comorbidities</th>\n",
       "      <th>Diabetes</th>\n",
       "      <th>...</th>\n",
       "      <th>VKORC1 -1639 consensus</th>\n",
       "      <th>VKORC1 497 consensus</th>\n",
       "      <th>VKORC1 1173 consensus</th>\n",
       "      <th>VKORC1 1542 consensus</th>\n",
       "      <th>VKORC1 3730 consensus</th>\n",
       "      <th>VKORC1 2255 consensus</th>\n",
       "      <th>VKORC1 -4451 consensus</th>\n",
       "      <th>Unnamed: 63</th>\n",
       "      <th>Unnamed: 64</th>\n",
       "      <th>Unnamed: 65</th>\n",
       "    </tr>\n",
       "  </thead>\n",
       "  <tbody>\n",
       "    <tr>\n",
       "      <th>0</th>\n",
       "      <td>PA135312261</td>\n",
       "      <td>male</td>\n",
       "      <td>White</td>\n",
       "      <td>not Hispanic or Latino</td>\n",
       "      <td>60 - 69</td>\n",
       "      <td>193.04</td>\n",
       "      <td>115.7</td>\n",
       "      <td>7</td>\n",
       "      <td>No Cancer</td>\n",
       "      <td>NaN</td>\n",
       "      <td>...</td>\n",
       "      <td>A/G</td>\n",
       "      <td>G/T</td>\n",
       "      <td>NaN</td>\n",
       "      <td>C/G</td>\n",
       "      <td>A/G</td>\n",
       "      <td>NaN</td>\n",
       "      <td>NaN</td>\n",
       "      <td>NaN</td>\n",
       "      <td>NaN</td>\n",
       "      <td>NaN</td>\n",
       "    </tr>\n",
       "    <tr>\n",
       "      <th>1</th>\n",
       "      <td>PA135312262</td>\n",
       "      <td>female</td>\n",
       "      <td>White</td>\n",
       "      <td>not Hispanic or Latino</td>\n",
       "      <td>50 - 59</td>\n",
       "      <td>176.53</td>\n",
       "      <td>144.2</td>\n",
       "      <td>7</td>\n",
       "      <td>Cancer</td>\n",
       "      <td>NaN</td>\n",
       "      <td>...</td>\n",
       "      <td>A/A</td>\n",
       "      <td>G/T</td>\n",
       "      <td>T/T</td>\n",
       "      <td>C/C</td>\n",
       "      <td>G/G</td>\n",
       "      <td>T/T</td>\n",
       "      <td>C/C</td>\n",
       "      <td>NaN</td>\n",
       "      <td>NaN</td>\n",
       "      <td>NaN</td>\n",
       "    </tr>\n",
       "    <tr>\n",
       "      <th>2</th>\n",
       "      <td>PA135312263</td>\n",
       "      <td>female</td>\n",
       "      <td>White</td>\n",
       "      <td>not Hispanic or Latino</td>\n",
       "      <td>40 - 49</td>\n",
       "      <td>162.56</td>\n",
       "      <td>77.1</td>\n",
       "      <td>7</td>\n",
       "      <td>No Cancer</td>\n",
       "      <td>NaN</td>\n",
       "      <td>...</td>\n",
       "      <td>G/G</td>\n",
       "      <td>T/T</td>\n",
       "      <td>NaN</td>\n",
       "      <td>G/G</td>\n",
       "      <td>A/G</td>\n",
       "      <td>NaN</td>\n",
       "      <td>NaN</td>\n",
       "      <td>NaN</td>\n",
       "      <td>NaN</td>\n",
       "      <td>NaN</td>\n",
       "    </tr>\n",
       "    <tr>\n",
       "      <th>3</th>\n",
       "      <td>PA135312264</td>\n",
       "      <td>male</td>\n",
       "      <td>White</td>\n",
       "      <td>not Hispanic or Latino</td>\n",
       "      <td>60 - 69</td>\n",
       "      <td>182.24</td>\n",
       "      <td>90.7</td>\n",
       "      <td>7</td>\n",
       "      <td>No Cancer</td>\n",
       "      <td>NaN</td>\n",
       "      <td>...</td>\n",
       "      <td>A/G</td>\n",
       "      <td>G/T</td>\n",
       "      <td>NaN</td>\n",
       "      <td>C/G</td>\n",
       "      <td>G/G</td>\n",
       "      <td>NaN</td>\n",
       "      <td>NaN</td>\n",
       "      <td>NaN</td>\n",
       "      <td>NaN</td>\n",
       "      <td>NaN</td>\n",
       "    </tr>\n",
       "    <tr>\n",
       "      <th>4</th>\n",
       "      <td>PA135312265</td>\n",
       "      <td>male</td>\n",
       "      <td>White</td>\n",
       "      <td>not Hispanic or Latino</td>\n",
       "      <td>50 - 59</td>\n",
       "      <td>167.64</td>\n",
       "      <td>72.6</td>\n",
       "      <td>7</td>\n",
       "      <td>No Cancer</td>\n",
       "      <td>NaN</td>\n",
       "      <td>...</td>\n",
       "      <td>A/G</td>\n",
       "      <td>T/T</td>\n",
       "      <td>NaN</td>\n",
       "      <td>C/G</td>\n",
       "      <td>A/G</td>\n",
       "      <td>NaN</td>\n",
       "      <td>NaN</td>\n",
       "      <td>NaN</td>\n",
       "      <td>NaN</td>\n",
       "      <td>NaN</td>\n",
       "    </tr>\n",
       "  </tbody>\n",
       "</table>\n",
       "<p>5 rows × 66 columns</p>\n",
       "</div>"
      ],
      "text/plain": [
       "  PharmGKB Subject ID  Gender   Race               Ethnicity      Age  \\\n",
       "0         PA135312261    male  White  not Hispanic or Latino  60 - 69   \n",
       "1         PA135312262  female  White  not Hispanic or Latino  50 - 59   \n",
       "2         PA135312263  female  White  not Hispanic or Latino  40 - 49   \n",
       "3         PA135312264    male  White  not Hispanic or Latino  60 - 69   \n",
       "4         PA135312265    male  White  not Hispanic or Latino  50 - 59   \n",
       "\n",
       "   Height (cm)  Weight (kg) Indication for Warfarin Treatment Comorbidities  \\\n",
       "0       193.04        115.7                                 7     No Cancer   \n",
       "1       176.53        144.2                                 7        Cancer   \n",
       "2       162.56         77.1                                 7     No Cancer   \n",
       "3       182.24         90.7                                 7     No Cancer   \n",
       "4       167.64         72.6                                 7     No Cancer   \n",
       "\n",
       "   Diabetes  ...  VKORC1 -1639 consensus  VKORC1 497 consensus  \\\n",
       "0       NaN  ...                     A/G                   G/T   \n",
       "1       NaN  ...                     A/A                   G/T   \n",
       "2       NaN  ...                     G/G                   T/T   \n",
       "3       NaN  ...                     A/G                   G/T   \n",
       "4       NaN  ...                     A/G                   T/T   \n",
       "\n",
       "  VKORC1 1173 consensus  VKORC1 1542 consensus  VKORC1 3730 consensus  \\\n",
       "0                   NaN                    C/G                    A/G   \n",
       "1                   T/T                    C/C                    G/G   \n",
       "2                   NaN                    G/G                    A/G   \n",
       "3                   NaN                    C/G                    G/G   \n",
       "4                   NaN                    C/G                    A/G   \n",
       "\n",
       "   VKORC1 2255 consensus  VKORC1 -4451 consensus  Unnamed: 63  Unnamed: 64  \\\n",
       "0                    NaN                     NaN          NaN          NaN   \n",
       "1                    T/T                     C/C          NaN          NaN   \n",
       "2                    NaN                     NaN          NaN          NaN   \n",
       "3                    NaN                     NaN          NaN          NaN   \n",
       "4                    NaN                     NaN          NaN          NaN   \n",
       "\n",
       "   Unnamed: 65  \n",
       "0          NaN  \n",
       "1          NaN  \n",
       "2          NaN  \n",
       "3          NaN  \n",
       "4          NaN  \n",
       "\n",
       "[5 rows x 66 columns]"
      ]
     },
     "execution_count": 3,
     "metadata": {},
     "output_type": "execute_result"
    }
   ],
   "source": [
    "dataset.head()"
   ]
  },
  {
   "cell_type": "code",
   "execution_count": 4,
   "metadata": {},
   "outputs": [
    {
     "name": "stdout",
     "output_type": "stream",
     "text": [
      "<class 'pandas.core.frame.DataFrame'>\n",
      "RangeIndex: 5701 entries, 0 to 5700\n",
      "Data columns (total 66 columns):\n",
      " #   Column                                                                Non-Null Count  Dtype  \n",
      "---  ------                                                                --------------  -----  \n",
      " 0   PharmGKB Subject ID                                                   5700 non-null   object \n",
      " 1   Gender                                                                5696 non-null   object \n",
      " 2   Race                                                                  5700 non-null   object \n",
      " 3   Ethnicity                                                             5700 non-null   object \n",
      " 4   Age                                                                   5658 non-null   object \n",
      " 5   Height (cm)                                                           4554 non-null   float64\n",
      " 6   Weight (kg)                                                           5413 non-null   float64\n",
      " 7   Indication for Warfarin Treatment                                     5002 non-null   object \n",
      " 8   Comorbidities                                                         3745 non-null   object \n",
      " 9   Diabetes                                                              3283 non-null   float64\n",
      " 10  Congestive Heart Failure and/or Cardiomyopathy                        4012 non-null   float64\n",
      " 11  Valve Replacement                                                     3958 non-null   float64\n",
      " 12  Medications                                                           4303 non-null   object \n",
      " 13  Aspirin                                                               3840 non-null   float64\n",
      " 14  Acetaminophen or Paracetamol (Tylenol)                                2274 non-null   float64\n",
      " 15  Was Dose of Acetaminophen or Paracetamol (Tylenol) >1300mg/day        1159 non-null   float64\n",
      " 16  Simvastatin (Zocor)                                                   3861 non-null   float64\n",
      " 17  Atorvastatin (Lipitor)                                                2455 non-null   float64\n",
      " 18  Fluvastatin (Lescol)                                                  2423 non-null   float64\n",
      " 19  Lovastatin (Mevacor)                                                  2431 non-null   float64\n",
      " 20  Pravastatin (Pravachol)                                               2433 non-null   float64\n",
      " 21  Rosuvastatin (Crestor)                                                2424 non-null   float64\n",
      " 22  Cerivastatin (Baycol)                                                 2136 non-null   float64\n",
      " 23  Amiodarone (Cordarone)                                                4182 non-null   float64\n",
      " 24  Carbamazepine (Tegretol)                                              2430 non-null   float64\n",
      " 25  Phenytoin (Dilantin)                                                  2424 non-null   float64\n",
      " 26  Rifampin or Rifampicin                                                2423 non-null   float64\n",
      " 27  Sulfonamide Antibiotics                                               2422 non-null   float64\n",
      " 28  Macrolide Antibiotics                                                 2423 non-null   float64\n",
      " 29  Anti-fungal Azoles                                                    2426 non-null   float64\n",
      " 30  Herbal Medications, Vitamins, Supplements                             1908 non-null   float64\n",
      " 31  Target INR                                                            1259 non-null   float64\n",
      " 32  Estimated Target INR Range Based on Indication                        3818 non-null   object \n",
      " 33  Subject Reached Stable Dose of Warfarin                               5651 non-null   float64\n",
      " 34  Therapeutic Dose of Warfarin                                          5528 non-null   float64\n",
      " 35  INR on Reported Therapeutic Dose of Warfarin                          4968 non-null   float64\n",
      " 36  Current Smoker                                                        3220 non-null   float64\n",
      " 37  Cyp2C9 genotypes                                                      5567 non-null   object \n",
      " 38  Genotyped QC Cyp2C9*2                                                 478 non-null    object \n",
      " 39  Genotyped QC Cyp2C9*3                                                 478 non-null    object \n",
      " 40  Combined QC CYP2C9                                                    478 non-null    object \n",
      " 41  VKORC1 genotype: -1639 G>A (3673); chr16:31015190; rs9923231; C/T     4046 non-null   object \n",
      " 42  VKORC1 QC genotype: -1639 G>A (3673); chr16:31015190; rs9923231; C/T  478 non-null    object \n",
      " 43  VKORC1 genotype: 497T>G (5808); chr16:31013055; rs2884737; A/C        1599 non-null   object \n",
      " 44  VKORC1 QC genotype: 497T>G (5808); chr16:31013055; rs2884737; A/C     478 non-null    object \n",
      " 45  VKORC1 genotype: 1173 C>T(6484); chr16:31012379; rs9934438; A/G       3363 non-null   object \n",
      " 46  VKORC1 QC genotype: 1173 C>T(6484); chr16:31012379; rs9934438; A/G    478 non-null    object \n",
      " 47  VKORC1 genotype: 1542G>C (6853); chr16:31012010; rs8050894; C/G       3330 non-null   object \n",
      " 48  VKORC1 QC genotype: 1542G>C (6853); chr16:31012010; rs8050894; C/G    478 non-null    object \n",
      " 49  VKORC1 genotype: 3730 G>A (9041); chr16:31009822; rs7294;  A/G        3124 non-null   object \n",
      " 50  VKORC1 QC genotype: 3730 G>A (9041); chr16:31009822; rs7294;  A/G     478 non-null    object \n",
      " 51  VKORC1 genotype: 2255C>T (7566); chr16:31011297; rs2359612; A/G       2223 non-null   object \n",
      " 52  VKORC1 QC genotype: 2255C>T (7566); chr16:31011297; rs2359612; A/G    478 non-null    object \n",
      " 53  VKORC1 genotype: -4451 C>A (861); Chr16:31018002; rs17880887; A/C     540 non-null    object \n",
      " 54  VKORC1 QC genotype: -4451 C>A (861); Chr16:31018002; rs17880887; A/C  451 non-null    object \n",
      " 55  CYP2C9 consensus                                                      5556 non-null   object \n",
      " 56  VKORC1 -1639 consensus                                                4201 non-null   object \n",
      " 57  VKORC1 497 consensus                                                  1883 non-null   object \n",
      " 58  VKORC1 1173 consensus                                                 3591 non-null   object \n",
      " 59  VKORC1 1542 consensus                                                 3521 non-null   object \n",
      " 60  VKORC1 3730 consensus                                                 3344 non-null   object \n",
      " 61  VKORC1 2255 consensus                                                 2536 non-null   object \n",
      " 62  VKORC1 -4451 consensus                                                912 non-null    object \n",
      " 63  Unnamed: 63                                                           0 non-null      float64\n",
      " 64  Unnamed: 64                                                           0 non-null      float64\n",
      " 65  Unnamed: 65                                                           0 non-null      float64\n",
      "dtypes: float64(31), object(35)\n",
      "memory usage: 2.9+ MB\n"
     ]
    }
   ],
   "source": [
    "dataset.info()"
   ]
  },
  {
   "cell_type": "code",
   "execution_count": 5,
   "metadata": {},
   "outputs": [],
   "source": [
    "dataset.drop(['Unnamed: 63', 'Unnamed: 64', 'Unnamed: 65'], axis=1, inplace=True)"
   ]
  },
  {
   "cell_type": "code",
   "execution_count": 6,
   "metadata": {},
   "outputs": [
    {
     "data": {
      "text/plain": [
       "White                        3122\n",
       "Asian                        1634\n",
       "Unknown                       482\n",
       "Black or African American     462\n",
       "NaN                             1\n",
       "Name: Race, dtype: int64"
      ]
     },
     "execution_count": 6,
     "metadata": {},
     "output_type": "execute_result"
    }
   ],
   "source": [
    "dataset['Race'].value_counts(dropna=False)"
   ]
  },
  {
   "cell_type": "code",
   "execution_count": 7,
   "metadata": {},
   "outputs": [
    {
     "data": {
      "text/plain": [
       "NaN    1655\n",
       "A/A    1456\n",
       "A/G    1426\n",
       "G/G    1164\n",
       "Name: VKORC1 genotype: -1639 G>A (3673); chr16:31015190; rs9923231; C/T, dtype: int64"
      ]
     },
     "execution_count": 7,
     "metadata": {},
     "output_type": "execute_result"
    }
   ],
   "source": [
    "dataset['VKORC1 genotype: -1639 G>A (3673); chr16:31015190; rs9923231; C/T'].value_counts(dropna=False)"
   ]
  },
  {
   "cell_type": "code",
   "execution_count": 8,
   "metadata": {},
   "outputs": [
    {
     "name": "stdout",
     "output_type": "stream",
     "text": [
      "NaN    1500\n",
      "A/A    1485\n",
      "A/G    1470\n",
      "G/G    1246\n",
      "Name: VKORC1 -1639 consensus, dtype: int64\n",
      "1500\n"
     ]
    }
   ],
   "source": [
    "print(dataset['VKORC1 -1639 consensus'].value_counts(dropna=False))\n",
    "print(dataset['VKORC1 -1639 consensus'].isna().sum())"
   ]
  },
  {
   "cell_type": "code",
   "execution_count": 9,
   "metadata": {},
   "outputs": [],
   "source": [
    "dataset.loc[((dataset['VKORC1 -1639 consensus'].isna()) \n",
    "             & ((dataset['Race'] != 'Black or African American') | dataset['Race'] != 'Unknown') \n",
    "             & (dataset['VKORC1 2255 consensus'] == 'C/C')), 'VKORC1 -1639 consensus'] = 'G/G'\n",
    "\n",
    "dataset.loc[((dataset['VKORC1 -1639 consensus'].isna()) \n",
    "             & ((dataset['Race'] != 'Black or African American') | dataset['Race'] != 'Unknown') \n",
    "             & (dataset['VKORC1 2255 consensus'] == 'T/T')), 'VKORC1 -1639 consensus'] = 'A/A'\n",
    "\n",
    "dataset.loc[((dataset['VKORC1 -1639 consensus'].isna()) \n",
    "             & ((dataset['Race'] != 'Black or African American') | dataset['Race'] != 'Unknown') \n",
    "             & (dataset['VKORC1 2255 consensus'] == 'C/T')), 'VKORC1 -1639 consensus'] = 'A/G'\n",
    "\n",
    "dataset.loc[((dataset['VKORC1 -1639 consensus'].isna()) \n",
    "             & (dataset['VKORC1 1173 consensus'] == 'C/C')), 'VKORC1 -1639 consensus'] = 'G/G'\n",
    "\n",
    "dataset.loc[((dataset['VKORC1 -1639 consensus'].isna())\n",
    "             & (dataset['VKORC1 1173 consensus'] == 'T/T')), 'VKORC1 -1639 consensus'] = 'A/A'\n",
    "\n",
    "dataset.loc[((dataset['VKORC1 -1639 consensus'].isna())\n",
    "            & (dataset['VKORC1 1173 consensus'] == 'C/T')), 'VKORC1 -1639 consensus'] = 'A/G'\n",
    "\n",
    "dataset.loc[((dataset['VKORC1 -1639 consensus'].isna()) \n",
    "             & ((dataset['Race'] != 'Black or African American') | dataset['Race'] != 'Unknown') \n",
    "             & (dataset['VKORC1 1542 consensus'] == 'G/G')), 'VKORC1 -1639 consensus'] = 'G/G'\n",
    "\n",
    "dataset.loc[((dataset['VKORC1 -1639 consensus'].isna()) \n",
    "             & ((dataset['Race'] != 'Black or African American') | dataset['Race'] != 'Unknown') \n",
    "             & (dataset['VKORC1 1542 consensus'] == 'C/C')), 'VKORC1 -1639 consensus'] = 'A/A'\n",
    "\n",
    "dataset.loc[((dataset['VKORC1 -1639 consensus'].isna()) \n",
    "             & ((dataset['Race'] != 'Black or African American') | dataset['Race'] != 'Unknown') \n",
    "             & (dataset['VKORC1 1542 consensus'] == 'C/G')), 'VKORC1 -1639 consensus'] = 'A/G'"
   ]
  },
  {
   "cell_type": "code",
   "execution_count": 10,
   "metadata": {},
   "outputs": [
    {
     "name": "stdout",
     "output_type": "stream",
     "text": [
      "A/G    2078\n",
      "A/A    1782\n",
      "G/G    1759\n",
      "NaN      82\n",
      "Name: VKORC1 -1639 consensus, dtype: int64\n"
     ]
    }
   ],
   "source": [
    "print(dataset['VKORC1 -1639 consensus'].value_counts(dropna=False))"
   ]
  },
  {
   "cell_type": "code",
   "execution_count": 11,
   "metadata": {},
   "outputs": [
    {
     "data": {
      "text/plain": [
       "70 - 79    1570\n",
       "60 - 69    1384\n",
       "50 - 59    1085\n",
       "80 - 89     670\n",
       "40 - 49     540\n",
       "30 - 39     230\n",
       "20 - 29     130\n",
       "NaN          43\n",
       "90+          35\n",
       "10 - 19      14\n",
       "Name: Age, dtype: int64"
      ]
     },
     "execution_count": 11,
     "metadata": {},
     "output_type": "execute_result"
    }
   ],
   "source": [
    "dataset['Age'].value_counts(dropna=False)"
   ]
  },
  {
   "cell_type": "code",
   "execution_count": 12,
   "metadata": {},
   "outputs": [],
   "source": [
    "dataset['Age'] = dataset['Age'].map({'10 - 19': 1, '20 - 29': 2, '30 - 39': 3, '40 - 49': 4, '50 - 59': 5, '60 - 69': 6, '70 - 79': 7, '80 - 89': 8, '90 - 99': 9, '90+': 10})"
   ]
  },
  {
   "cell_type": "code",
   "execution_count": 13,
   "metadata": {},
   "outputs": [
    {
     "data": {
      "text/plain": [
       "7.0     1570\n",
       "6.0     1384\n",
       "5.0     1085\n",
       "8.0      670\n",
       "4.0      540\n",
       "3.0      230\n",
       "2.0      130\n",
       "NaN       43\n",
       "10.0      35\n",
       "1.0       14\n",
       "Name: Age, dtype: int64"
      ]
     },
     "execution_count": 13,
     "metadata": {},
     "output_type": "execute_result"
    }
   ],
   "source": [
    "dataset['Age'].value_counts(dropna=False)"
   ]
  },
  {
   "cell_type": "code",
   "execution_count": 14,
   "metadata": {},
   "outputs": [],
   "source": [
    "dataset['Enzyme_inducer'] = dataset.apply(lambda row: 1 if (row['Carbamazepine (Tegretol)'] == 1 or row['Phenytoin (Dilantin)'] == 1 or row['Rifampin or Rifampicin'] == 1) else 0, axis=1)"
   ]
  },
  {
   "cell_type": "code",
   "execution_count": 15,
   "metadata": {},
   "outputs": [],
   "source": [
    "columnsToDrop = ['PharmGKB Subject ID', 'Cyp2C9 genotypes', 'Genotyped QC Cyp2C9*2', 'Genotyped QC Cyp2C9*3',\n",
    "       'Combined QC CYP2C9',\n",
    "       'VKORC1 genotype: -1639 G>A (3673); chr16:31015190; rs9923231; C/T',\n",
    "       'VKORC1 QC genotype: -1639 G>A (3673); chr16:31015190; rs9923231; C/T',\n",
    "       'VKORC1 genotype: 497T>G (5808); chr16:31013055; rs2884737; A/C',\n",
    "       'VKORC1 QC genotype: 497T>G (5808); chr16:31013055; rs2884737; A/C',\n",
    "       'VKORC1 genotype: 1173 C>T(6484); chr16:31012379; rs9934438; A/G',\n",
    "       'VKORC1 QC genotype: 1173 C>T(6484); chr16:31012379; rs9934438; A/G',\n",
    "       'VKORC1 genotype: 1542G>C (6853); chr16:31012010; rs8050894; C/G',\n",
    "       'VKORC1 QC genotype: 1542G>C (6853); chr16:31012010; rs8050894; C/G',\n",
    "       'VKORC1 genotype: 3730 G>A (9041); chr16:31009822; rs7294;  A/G',\n",
    "       'VKORC1 QC genotype: 3730 G>A (9041); chr16:31009822; rs7294;  A/G',\n",
    "       'VKORC1 genotype: 2255C>T (7566); chr16:31011297; rs2359612; A/G',\n",
    "       'VKORC1 QC genotype: 2255C>T (7566); chr16:31011297; rs2359612; A/G',\n",
    "       'VKORC1 genotype: -4451 C>A (861); Chr16:31018002; rs17880887; A/C',\n",
    "       'VKORC1 QC genotype: -4451 C>A (861); Chr16:31018002; rs17880887; A/C',\n",
    "    'Medications', 'Aspirin', 'Acetaminophen or Paracetamol (Tylenol)',\n",
    "       'Was Dose of Acetaminophen or Paracetamol (Tylenol) >1300mg/day',\n",
    "       'Simvastatin (Zocor)', 'Atorvastatin (Lipitor)', 'Fluvastatin (Lescol)',\n",
    "       'Lovastatin (Mevacor)', 'Pravastatin (Pravachol)',\n",
    "       'Rosuvastatin (Crestor)', 'Cerivastatin (Baycol)', \n",
    "       'Carbamazepine (Tegretol)',\n",
    "       'Phenytoin (Dilantin)', 'Rifampin or Rifampicin',\n",
    "       'Sulfonamide Antibiotics', 'Macrolide Antibiotics',\n",
    "       'Anti-fungal Azoles', 'Herbal Medications, Vitamins, Supplements',\n",
    "       'Ethnicity', 'Indication for Warfarin Treatment', 'Comorbidities',\n",
    "       'Gender', 'Valve Replacement', 'Congestive Heart Failure and/or Cardiomyopathy',\n",
    "       'Diabetes', 'Target INR', 'Estimated Target INR Range Based on Indication',\n",
    "       'Subject Reached Stable Dose of Warfarin', 'INR on Reported Therapeutic Dose of Warfarin',\n",
    "       'Current Smoker'\n",
    "       ]"
   ]
  },
  {
   "cell_type": "code",
   "execution_count": 16,
   "metadata": {},
   "outputs": [],
   "source": [
    "dataset.drop(columnsToDrop, axis=1, inplace=True)"
   ]
  },
  {
   "cell_type": "code",
   "execution_count": 17,
   "metadata": {},
   "outputs": [
    {
     "name": "stdout",
     "output_type": "stream",
     "text": [
      "<class 'pandas.core.frame.DataFrame'>\n",
      "RangeIndex: 5701 entries, 0 to 5700\n",
      "Data columns (total 15 columns):\n",
      " #   Column                        Non-Null Count  Dtype  \n",
      "---  ------                        --------------  -----  \n",
      " 0   Race                          5700 non-null   object \n",
      " 1   Age                           5658 non-null   float64\n",
      " 2   Height (cm)                   4554 non-null   float64\n",
      " 3   Weight (kg)                   5413 non-null   float64\n",
      " 4   Amiodarone (Cordarone)        4182 non-null   float64\n",
      " 5   Therapeutic Dose of Warfarin  5528 non-null   float64\n",
      " 6   CYP2C9 consensus              5556 non-null   object \n",
      " 7   VKORC1 -1639 consensus        5619 non-null   object \n",
      " 8   VKORC1 497 consensus          1883 non-null   object \n",
      " 9   VKORC1 1173 consensus         3591 non-null   object \n",
      " 10  VKORC1 1542 consensus         3521 non-null   object \n",
      " 11  VKORC1 3730 consensus         3344 non-null   object \n",
      " 12  VKORC1 2255 consensus         2536 non-null   object \n",
      " 13  VKORC1 -4451 consensus        912 non-null    object \n",
      " 14  Enzyme_inducer                5701 non-null   int64  \n",
      "dtypes: float64(5), int64(1), object(9)\n",
      "memory usage: 668.2+ KB\n"
     ]
    }
   ],
   "source": [
    "dataset.info()"
   ]
  },
  {
   "cell_type": "code",
   "execution_count": 18,
   "metadata": {},
   "outputs": [],
   "source": [
    "dataset.dropna(subset='Therapeutic Dose of Warfarin', inplace=True, axis=0)"
   ]
  },
  {
   "cell_type": "code",
   "execution_count": 19,
   "metadata": {},
   "outputs": [
    {
     "data": {
      "text/plain": [
       "0"
      ]
     },
     "execution_count": 19,
     "metadata": {},
     "output_type": "execute_result"
    }
   ],
   "source": [
    "dataset['Therapeutic Dose of Warfarin'].isna().sum()"
   ]
  },
  {
   "cell_type": "code",
   "execution_count": 20,
   "metadata": {},
   "outputs": [
    {
     "data": {
      "text/plain": [
       "0    5474\n",
       "1      54\n",
       "Name: Enzyme_inducer, dtype: int64"
      ]
     },
     "execution_count": 20,
     "metadata": {},
     "output_type": "execute_result"
    }
   ],
   "source": [
    "dataset['Enzyme_inducer'].value_counts(dropna=False)"
   ]
  },
  {
   "cell_type": "code",
   "execution_count": 21,
   "metadata": {},
   "outputs": [],
   "source": [
    "new_data = pd.get_dummies(dataset)"
   ]
  },
  {
   "cell_type": "code",
   "execution_count": 22,
   "metadata": {},
   "outputs": [],
   "source": [
    "from sklearn.model_selection import train_test_split\n",
    "train_data, test_data = train_test_split(new_data, test_size=0.2, random_state=42)"
   ]
  },
  {
   "cell_type": "code",
   "execution_count": 23,
   "metadata": {},
   "outputs": [],
   "source": [
    "train_data.to_csv('train.csv', index=False)\n",
    "test_data.to_csv('test.csv', index=False)"
   ]
  }
 ],
 "metadata": {
  "kernelspec": {
   "display_name": "Python 3",
   "language": "python",
   "name": "python3"
  },
  "language_info": {
   "codemirror_mode": {
    "name": "ipython",
    "version": 3
   },
   "file_extension": ".py",
   "mimetype": "text/x-python",
   "name": "python",
   "nbconvert_exporter": "python",
   "pygments_lexer": "ipython3",
   "version": "3.10.0"
  },
  "orig_nbformat": 4,
  "vscode": {
   "interpreter": {
    "hash": "aa38c17d1bd45a86ec0ab967fbfdc32b54171999b37390c12f301df6eae5214f"
   }
  }
 },
 "nbformat": 4,
 "nbformat_minor": 2
}
