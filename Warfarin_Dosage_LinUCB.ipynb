{
 "cells": [
  {
   "cell_type": "code",
   "execution_count": 1,
   "metadata": {},
   "outputs": [],
   "source": [
    "import pandas as pd\n",
    "import numpy as np\n",
    "import math\n",
    "import matplotlib.pyplot as plt"
   ]
  },
  {
   "attachments": {},
   "cell_type": "markdown",
   "metadata": {},
   "source": [
    "Loading the Data"
   ]
  },
  {
   "cell_type": "code",
   "execution_count": 2,
   "metadata": {},
   "outputs": [],
   "source": [
    "train = pd.read_csv('./data/train.csv')\n",
    "test = pd.read_csv('./data/test.csv')\n",
    "\n",
    "# Impute missing values with mean with same datatype\n",
    "def impute_mean(df, col):\n",
    "    df[col] = df[col].fillna(math.floor(df[col].mean()))\n",
    "\n",
    "for col in train.columns:\n",
    "    impute_mean(train, col)\n",
    "    impute_mean(test, col)\n",
    "\n",
    "train_dose = train['Therapeutic Dose of Warfarin']\n",
    "train.drop(['Therapeutic Dose of Warfarin'], axis=1, inplace=True)\n",
    "test_dose = test['Therapeutic Dose of Warfarin']\n",
    "test.drop(['Therapeutic Dose of Warfarin'], axis=1, inplace=True)"
   ]
  },
  {
   "attachments": {},
   "cell_type": "markdown",
   "metadata": {},
   "source": [
    "Classifying the Doses into 3 categories Low - 0, Medium - 1, and High - 2"
   ]
  },
  {
   "cell_type": "code",
   "execution_count": 3,
   "metadata": {},
   "outputs": [
    {
     "name": "stderr",
     "output_type": "stream",
     "text": [
      "C:\\Users\\rudra\\AppData\\Local\\Temp/ipykernel_17700/619800167.py:11: SettingWithCopyWarning: \n",
      "A value is trying to be set on a copy of a slice from a DataFrame\n",
      "\n",
      "See the caveats in the documentation: https://pandas.pydata.org/pandas-docs/stable/user_guide/indexing.html#returning-a-view-versus-a-copy\n",
      "  train_dose.iloc[i] = calculate_arm(train_dose.iloc[i])\n",
      "C:\\Users\\rudra\\AppData\\Local\\Temp/ipykernel_17700/619800167.py:14: SettingWithCopyWarning: \n",
      "A value is trying to be set on a copy of a slice from a DataFrame\n",
      "\n",
      "See the caveats in the documentation: https://pandas.pydata.org/pandas-docs/stable/user_guide/indexing.html#returning-a-view-versus-a-copy\n",
      "  test_dose.iloc[i] = calculate_arm(test_dose.iloc[i])\n"
     ]
    }
   ],
   "source": [
    "def calculate_arm(dose):\n",
    "    if dose < 21:\n",
    "        return 0\n",
    "    elif dose >= 21 and dose < 49:\n",
    "        return 1\n",
    "    else:\n",
    "        return 2\n",
    "\n",
    "\n",
    "for i in range(len(train_dose)):\n",
    "    train_dose.iloc[i] = calculate_arm(train_dose.iloc[i])\n",
    "\n",
    "for i in range(len(test_dose)):\n",
    "    test_dose.iloc[i] = calculate_arm(test_dose.iloc[i])\n",
    "\n",
    "train_dose = train_dose.astype(int)\n",
    "test_dose = test_dose.astype(int)"
   ]
  },
  {
   "attachments": {},
   "cell_type": "markdown",
   "metadata": {},
   "source": [
    "Using the Linear UCB Algorithm of Contextual Multi-Arm Bandits to train the Agent on the Data"
   ]
  },
  {
   "cell_type": "code",
   "execution_count": 7,
   "metadata": {},
   "outputs": [
    {
     "name": "stdout",
     "output_type": "stream",
     "text": [
      "Accuracy:  0.6763110307414105\n",
      "Risk:  0.783001808318264\n",
      "Accuracy:  0.6790235081374322\n",
      "Risk:  0.7784810126582279\n",
      "Accuracy:  0.6817359855334539\n",
      "Risk:  0.7784810126582279\n",
      "Accuracy:  0.6871609403254972\n",
      "Risk:  0.7603978300180831\n",
      "Accuracy:  0.6781193490054249\n",
      "Risk:  0.755877034358047\n",
      "Accuracy:  0.6790235081374322\n",
      "Risk:  0.7784810126582279\n",
      "Accuracy:  0.6817359855334539\n",
      "Risk:  0.7603978300180831\n",
      "Accuracy:  0.6799276672694394\n",
      "Risk:  0.783001808318264\n",
      "Accuracy:  0.6817359855334539\n",
      "Risk:  0.7739602169981917\n",
      "Accuracy:  0.6844484629294756\n",
      "Risk:  0.7603978300180831\n"
     ]
    }
   ],
   "source": [
    "arms = [0, 1, 2]\n",
    "accuracy = []\n",
    "regrets = []\n",
    "#train\n",
    "r_total = 0\n",
    "for j in range(10):\n",
    "    accuracy_list = []\n",
    "    regret_list = []\n",
    "    regret = 0\n",
    "    risk = 0\n",
    "    A_map = {}\n",
    "    b_map = {} \n",
    "    for arm in arms:\n",
    "        A_map[arm] = np.identity(len(list(train))) \n",
    "        b_map[arm] = np.zeros(len(list(train)))\n",
    "    \n",
    "    indices = np.random.permutation(list(range(len(train))))\n",
    "    for j in range(5):\n",
    "        for i in indices:\n",
    "            feature = np.array(train.iloc[i], dtype=float)\n",
    "            \n",
    "            # iterate through actions\n",
    "            p = {}\n",
    "            \n",
    "            max_value = -np.inf\n",
    "            max_arm = 0\n",
    "            for arm in arms:\n",
    "                theta = np.matmul(np.linalg.inv(A_map[arm]), b_map[arm])\n",
    "                p = np.matmul(theta.T, feature) + \\\n",
    "                    np.sqrt(np.matmul(np.matmul(feature.T,np.linalg.inv(A_map[arm])), feature))\n",
    "                \n",
    "                if p == max_value:\n",
    "                    if np.random.choice(a=[False, True]): max_arm = arm\n",
    "                elif p > max_value:\n",
    "                    max_value = p\n",
    "                    max_arm = arm\n",
    "            \n",
    "            # observe reward and update A and b\n",
    "            r = 0 if max_arm == train_dose[i] else -1\n",
    "            regret -= r\n",
    "            A_map[max_arm] += np.outer(feature, feature) \n",
    "            b_map[max_arm] += r*feature\n",
    "            accuracy_list.append((i+1 - regret)/(i+1))\n",
    "            regret_list.append(regret)\n",
    "\n",
    "    correct_count = 0\n",
    "    count = 0\n",
    "    for i in range(len(test)):\n",
    "        count += 1\n",
    "        feature = np.array(test.iloc[i], dtype=float)\n",
    "        # iterate through actions\n",
    "        p = {}\n",
    "        max_value = -np.inf\n",
    "        max_arm = 0\n",
    "        for arm in arms:\n",
    "            theta = np.matmul(np.linalg.inv(A_map[arm]), b_map[arm])\n",
    "            p = np.matmul(theta.T, feature) + \\\n",
    "                    np.sqrt(np.matmul(np.matmul(feature.T,np.linalg.inv(A_map[arm])), feature))\n",
    "            if p == max_value:\n",
    "                if np.random.choice(a=[False, True]): max_arm = arm\n",
    "            elif p > max_value:\n",
    "                max_value = p\n",
    "                max_arm = arm\n",
    "        \n",
    "        if max_arm == test_dose[i]: correct_count += 1\n",
    "        if ((max_arm == 2 and (test_dose[i] == 0 or test_dose[i] == 1)) or (max_arm == 1 and test_dose[i] == 0)):\n",
    "            risk += 5 \n",
    "        elif (max_arm == 0 and test_dose[i] == 2):\n",
    "            risk += 1\n",
    "    \n",
    "    print(\"Accuracy: \", correct_count/count)\n",
    "    print(\"Risk: \", risk/count) \n",
    "    accuracy.append(correct_count/count)"
   ]
  },
  {
   "attachments": {},
   "cell_type": "markdown",
   "metadata": {},
   "source": [
    "Accuracy"
   ]
  },
  {
   "cell_type": "code",
   "execution_count": 8,
   "metadata": {},
   "outputs": [
    {
     "name": "stdout",
     "output_type": "stream",
     "text": [
      "Mean Accuracy:  0.6809222423146474\n"
     ]
    }
   ],
   "source": [
    "print(\"Mean Accuracy: \", np.mean(accuracy))"
   ]
  },
  {
   "cell_type": "code",
   "execution_count": 9,
   "metadata": {},
   "outputs": [
    {
     "data": {
      "image/png": "[encoded data removed]",
      "text/plain": [
       "<Figure size 432x288 with 1 Axes>"
      ]
     },
     "metadata": {
      "needs_background": "light"
     },
     "output_type": "display_data"
    }
   ],
   "source": [
    "# Plot accuracy\n",
    "plt.plot(accuracy)\n",
    "plt.xlabel('Number of trials')\n",
    "plt.ylabel('Accuracy')\n",
    "plt.title('Accuracy vs Number of trials')\n",
    "plt.show()\n"
   ]
  }
 ],
 "metadata": {
  "kernelspec": {
   "display_name": "Python 3",
   "language": "python",
   "name": "python3"
  },
  "language_info": {
   "codemirror_mode": {
    "name": "ipython",
    "version": 3
   },
   "file_extension": ".py",
   "mimetype": "text/x-python",
   "name": "python",
   "nbconvert_exporter": "python",
   "pygments_lexer": "ipython3",
   "version": "3.10.0"
  },
  "orig_nbformat": 4
 },
 "nbformat": 4,
 "nbformat_minor": 2
}
