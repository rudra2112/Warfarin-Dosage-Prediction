{
 "cells": [
  {
   "cell_type": "code",
   "execution_count": 1,
   "metadata": {},
   "outputs": [],
   "source": [
    "import pandas as pd\n",
    "warf = pd.read_csv('data/warfarin.csv')"
   ]
  },
  {
   "cell_type": "code",
   "execution_count": 2,
   "metadata": {},
   "outputs": [],
   "source": [
    "warf = warf.fillna('Unknown')"
   ]
  },
  {
   "cell_type": "code",
   "execution_count": 3,
   "metadata": {},
   "outputs": [],
   "source": [
    "warf = warf.loc[warf['Age'] != 'Unknown']\n",
    "warf = warf.loc[warf['Height (cm)'] != 'Unknown']\n",
    "warf = warf.loc[warf['Weight (kg)'] != 'Unknown']\n",
    "warf = warf.loc[warf['Carbamazepine (Tegretol)'] != 'Unknown']\n",
    "warf = warf.loc[warf['Phenytoin (Dilantin)'] != 'Unknown']\n",
    "warf = warf.loc[warf['Rifampin or Rifampicin'] != 'Unknown']\n",
    "warf = warf.loc[warf['Amiodarone (Cordarone)'] != 'Unknown']"
   ]
  },
  {
   "cell_type": "code",
   "execution_count": 4,
   "metadata": {},
   "outputs": [],
   "source": [
    "warf['Carbamazepine (Tegretol)'] = warf['Carbamazepine (Tegretol)'].map({1.0: True, 0.0: False})\n",
    "warf['Phenytoin (Dilantin)'] = warf['Phenytoin (Dilantin)'].map({1.0: True, 0.0:False})\n",
    "warf['Rifampin or Rifampicin'] = warf['Rifampin or Rifampicin'].map({1.0: True, 0.0:False})"
   ]
  },
  {
   "cell_type": "code",
   "execution_count": 5,
   "metadata": {},
   "outputs": [],
   "source": [
    "warf['Age'] = warf['Age'].map({'10 - 19': 1, '20 - 29': 2, '30 - 39': 3, '40 - 49': 4, '50 - 59': 5, '60 - 69': 6, '70 - 79': 7, '80 - 89' : 8, '90+' : 9})"
   ]
  },
  {
   "cell_type": "code",
   "execution_count": 6,
   "metadata": {},
   "outputs": [],
   "source": [
    "warf = pd.get_dummies(warf, prefix=['Race'],columns=['Race'])\n"
   ]
  },
  {
   "cell_type": "code",
   "execution_count": 7,
   "metadata": {},
   "outputs": [
    {
     "data": {
      "text/plain": [
       "False    2122\n",
       "Name: Enzyme inducer status, dtype: int64"
      ]
     },
     "execution_count": 7,
     "metadata": {},
     "output_type": "execute_result"
    }
   ],
   "source": [
    "warf['Enzyme inducer status'] = warf[\"Carbamazepine (Tegretol)\"] & warf[\"Phenytoin (Dilantin)\"] & warf[\"Rifampin or Rifampicin\"]\n",
    "warf['Enzyme inducer status'].value_counts()"
   ]
  },
  {
   "cell_type": "code",
   "execution_count": 8,
   "metadata": {},
   "outputs": [],
   "source": [
    "warf['Clinical Dose'] = 4.0376 - 0.2546*warf['Age'] + 0.0118*warf['Height (cm)'] + 0.0134*warf['Weight (kg)'] - 0.6752*warf['Race_Asian'] + 0.4060*warf['Race_Black or African American'] + 0.0443*warf['Race_Unknown'] + 1.2799*warf['Enzyme inducer status'] - 0.5695*warf['Amiodarone (Cordarone)']\n",
    "warf['Clinical Dose'] =  warf['Clinical Dose']*warf['Clinical Dose']"
   ]
  },
  {
   "cell_type": "code",
   "execution_count": 9,
   "metadata": {},
   "outputs": [],
   "source": [
    "bins = pd.IntervalIndex.from_tuples([(0, 20.9999), (20.9999, 49), (49, 20000)])\n",
    "warf[\"Therapeutic Dose of Warfarin\"] = pd.cut(warf[\"Therapeutic Dose of Warfarin\"], bins)\n",
    "warf['Clinical Dose'] = pd.cut(warf['Clinical Dose'], bins)"
   ]
  },
  {
   "cell_type": "code",
   "execution_count": 10,
   "metadata": {},
   "outputs": [
    {
     "data": {
      "text/plain": [
       "True     1403\n",
       "False     719\n",
       "Name: Correct, dtype: int64"
      ]
     },
     "execution_count": 10,
     "metadata": {},
     "output_type": "execute_result"
    }
   ],
   "source": [
    "warf['Correct'] = warf['Clinical Dose'] == warf[\"Therapeutic Dose of Warfarin\"]\n",
    "warf['Correct'].value_counts()"
   ]
  },
  {
   "cell_type": "code",
   "execution_count": 11,
   "metadata": {},
   "outputs": [
    {
     "data": {
      "text/plain": [
       "0.6611687087653157"
      ]
     },
     "execution_count": 11,
     "metadata": {},
     "output_type": "execute_result"
    }
   ],
   "source": [
    "1403/(1403+719)"
   ]
  },
  {
   "cell_type": "code",
   "execution_count": null,
   "metadata": {},
   "outputs": [],
   "source": []
  }
 ],
 "metadata": {
  "kernelspec": {
   "display_name": "Python 3",
   "language": "python",
   "name": "python3"
  },
  "language_info": {
   "codemirror_mode": {
    "name": "ipython",
    "version": 3
   },
   "file_extension": ".py",
   "mimetype": "text/x-python",
   "name": "python",
   "nbconvert_exporter": "python",
   "pygments_lexer": "ipython3",
   "version": "3.10.0"
  },
  "orig_nbformat": 4
 },
 "nbformat": 4,
 "nbformat_minor": 2
}
