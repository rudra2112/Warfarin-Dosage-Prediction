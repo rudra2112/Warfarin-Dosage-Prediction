{
 "cells": [
  {
   "attachments": {},
   "cell_type": "markdown",
   "metadata": {},
   "source": [
    "Loading and Processing The Data"
   ]
  },
  {
   "cell_type": "code",
   "execution_count": 1,
   "metadata": {},
   "outputs": [],
   "source": [
    "import pandas as pd\n",
    "warf = pd.read_csv('data/warfarin.csv')"
   ]
  },
  {
   "cell_type": "code",
   "execution_count": 2,
   "metadata": {},
   "outputs": [],
   "source": [
    "warf = warf.fillna('Unknown')"
   ]
  },
  {
   "cell_type": "code",
   "execution_count": 3,
   "metadata": {},
   "outputs": [],
   "source": [
    "warf = warf.loc[warf['Age'] != 'Unknown']\n",
    "warf = warf.loc[warf['Height (cm)'] != 'Unknown']\n",
    "warf = warf.loc[warf['Weight (kg)'] != 'Unknown']\n",
    "warf = warf.loc[warf['Carbamazepine (Tegretol)'] != 'Unknown']\n",
    "warf = warf.loc[warf['Phenytoin (Dilantin)'] != 'Unknown']\n",
    "warf = warf.loc[warf['Rifampin or Rifampicin'] != 'Unknown']\n",
    "warf = warf.loc[warf['Amiodarone (Cordarone)'] != 'Unknown']"
   ]
  },
  {
   "cell_type": "code",
   "execution_count": 4,
   "metadata": {},
   "outputs": [],
   "source": [
    "warf['Carbamazepine (Tegretol)'] = warf['Carbamazepine (Tegretol)'].map({1.0: True, 0.0: False})\n",
    "warf['Phenytoin (Dilantin)'] = warf['Phenytoin (Dilantin)'].map({1.0: True, 0.0:False})\n",
    "warf['Rifampin or Rifampicin'] = warf['Rifampin or Rifampicin'].map({1.0: True, 0.0:False})"
   ]
  },
  {
   "cell_type": "code",
   "execution_count": 5,
   "metadata": {},
   "outputs": [],
   "source": [
    "cols = ['Cyp2C9 genotypes', 'VKORC1 genotype: -1639 G>A (3673); chr16:31015190; rs9923231; C/T']\n",
    "warf = pd.get_dummies(warf, prefix = cols, columns=cols)"
   ]
  },
  {
   "cell_type": "code",
   "execution_count": 6,
   "metadata": {},
   "outputs": [],
   "source": [
    "warf['Age'] = warf['Age'].map({'10 - 19': 1, '20 - 29': 2, '30 - 39': 3, '40 - 49': 4, '50 - 59': 5, '60 - 69': 6, '70 - 79': 7, '80 - 89' : 8, '90+' : 9})"
   ]
  },
  {
   "cell_type": "code",
   "execution_count": 7,
   "metadata": {},
   "outputs": [],
   "source": [
    "warf = pd.get_dummies(warf, prefix=['Race'],columns=['Race'])"
   ]
  },
  {
   "cell_type": "code",
   "execution_count": 8,
   "metadata": {},
   "outputs": [
    {
     "data": {
      "text/plain": [
       "False    2122\n",
       "Name: Enzyme inducer status, dtype: int64"
      ]
     },
     "execution_count": 8,
     "metadata": {},
     "output_type": "execute_result"
    }
   ],
   "source": [
    "warf['Enzyme inducer status'] = warf[\"Carbamazepine (Tegretol)\"] & warf[\"Phenytoin (Dilantin)\"] & warf[\"Rifampin or Rifampicin\"]\n",
    "warf['Enzyme inducer status'].value_counts()"
   ]
  },
  {
   "attachments": {},
   "cell_type": "markdown",
   "metadata": {},
   "source": [
    "Using Pharmacogenetic Dosing Algorithm to Predict Dosage"
   ]
  },
  {
   "cell_type": "code",
   "execution_count": 9,
   "metadata": {},
   "outputs": [],
   "source": [
    "warf['Pharmacogenetic Dose'] = \\\n",
    "5.6044 \\\n",
    "- 0.2614*warf['Age']\\\n",
    "+ 0.0087*warf['Height (cm)']\\\n",
    "+ 0.0128*warf['Weight (kg)']\\\n",
    "- 0.1092*warf['Race_Asian']\\\n",
    "- 0.2760*warf['Race_Black or African American']\\\n",
    "- 0.1032*warf['Race_Unknown']\\\n",
    "+ 1.1816*warf['Enzyme inducer status']\\\n",
    "-   0.5503*warf['Amiodarone (Cordarone)']\\\n",
    "- 0.5211*warf['Cyp2C9 genotypes_*1/*2']\\\n",
    "- 0.9357*warf['Cyp2C9 genotypes_*1/*3']\\\n",
    "- 1.0616*warf['Cyp2C9 genotypes_*2/*2']\\\n",
    "- 1.9206*warf['Cyp2C9 genotypes_*2/*3']\\\n",
    "- 2.3312*warf['Cyp2C9 genotypes_*3/*3']\\\n",
    "- 0.2188*warf['Cyp2C9 genotypes_Unknown']\\\n",
    "- 1.6974*warf['VKORC1 genotype: -1639 G>A (3673); chr16:31015190; rs9923231; C/T_A/A']\\\n",
    "- 0.8677*warf['VKORC1 genotype: -1639 G>A (3673); chr16:31015190; rs9923231; C/T_A/G']\\\n",
    "- 0.4854*warf['VKORC1 genotype: -1639 G>A (3673); chr16:31015190; rs9923231; C/T_Unknown']\n",
    "warf['Pharmacogenetic Dose'] =  warf['Pharmacogenetic Dose']*warf['Pharmacogenetic Dose']"
   ]
  },
  {
   "cell_type": "code",
   "execution_count": 10,
   "metadata": {},
   "outputs": [],
   "source": [
    "bins = pd.IntervalIndex.from_tuples([(0, 20.9999), (20.9999, 49), (49, 20000)])\n",
    "warf[\"Therapeutic Dose of Warfarin\"] = pd.cut(warf[\"Therapeutic Dose of Warfarin\"], bins)\n",
    "warf['Pharmacogenetic Dose'] = pd.cut(warf['Pharmacogenetic Dose'], bins)"
   ]
  },
  {
   "cell_type": "code",
   "execution_count": 11,
   "metadata": {},
   "outputs": [
    {
     "data": {
      "text/plain": [
       "True     1459\n",
       "False     663\n",
       "Name: Correct, dtype: int64"
      ]
     },
     "execution_count": 11,
     "metadata": {},
     "output_type": "execute_result"
    }
   ],
   "source": [
    "warf['Correct'] = warf['Pharmacogenetic Dose'] == warf[\"Therapeutic Dose of Warfarin\"]\n",
    "warf['Correct'].value_counts()"
   ]
  },
  {
   "cell_type": "markdown",
   "metadata": {},
   "source": [
    "Accuracy"
   ]
  },
  {
   "cell_type": "code",
   "execution_count": 13,
   "metadata": {},
   "outputs": [
    {
     "name": "stdout",
     "output_type": "stream",
     "text": [
      "Accuracy:  0.6875589066918002\n"
     ]
    }
   ],
   "source": [
    "print(\"Accuracy: \", 1459/(1459+663))"
   ]
  },
  {
   "cell_type": "code",
   "execution_count": null,
   "metadata": {},
   "outputs": [],
   "source": []
  }
 ],
 "metadata": {
  "kernelspec": {
   "display_name": "Python 3",
   "language": "python",
   "name": "python3"
  },
  "language_info": {
   "codemirror_mode": {
    "name": "ipython",
    "version": 3
   },
   "file_extension": ".py",
   "mimetype": "text/x-python",
   "name": "python",
   "nbconvert_exporter": "python",
   "pygments_lexer": "ipython3",
   "version": "3.10.0"
  },
  "orig_nbformat": 4
 },
 "nbformat": 4,
 "nbformat_minor": 2
}
